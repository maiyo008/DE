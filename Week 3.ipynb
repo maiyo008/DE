{
 "cells": [
  {
   "cell_type": "code",
   "execution_count": 5,
   "id": "6c2232ff-3a08-4509-94c0-3057f079790c",
   "metadata": {},
   "outputs": [
    {
     "name": "stdout",
     "output_type": "stream",
     "text": [
      "8\n"
     ]
    }
   ],
   "source": [
    "def square(num2, num1 = 2):\n",
    "    return num2**num1\n",
    "\n",
    "print(square(2,3))"
   ]
  },
  {
   "cell_type": "markdown",
   "id": "36122cd3-1d9a-4ec5-a652-e327eea991c7",
   "metadata": {},
   "source": [
    "# Week 3: Python Functions"
   ]
  },
  {
   "cell_type": "markdown",
   "id": "1cbc3d04-7570-4ec7-b0f8-7d8f218f0b53",
   "metadata": {},
   "source": [
    "## Passing Args with a Key Value pair (Unordered)"
   ]
  },
  {
   "cell_type": "markdown",
   "id": "a5750b5d-d9f6-420e-a6f1-eb040bb8e247",
   "metadata": {},
   "source": [
    "* If we pass the args with key and value, the order of the args does not matter"
   ]
  },
  {
   "cell_type": "code",
   "execution_count": 10,
   "id": "139fc24b-ac54-4e2a-b399-0f39deee1f59",
   "metadata": {},
   "outputs": [
    {
     "name": "stdout",
     "output_type": "stream",
     "text": [
      "Awino Longomba\n",
      "Noone Bashir\n"
     ]
    }
   ],
   "source": [
    "def full_name(firstname, lastname):\n",
    "    full_name = firstname + ' ' + lastname\n",
    "    print(full_name)\n",
    "\n",
    "full_name(firstname='Awino', lastname='Longomba')\n",
    "full_name(lastname='Bashir', firstname='Noone')"
   ]
  },
  {
   "cell_type": "markdown",
   "id": "5c77a4b4-aa74-4c1a-bbb4-377dec571949",
   "metadata": {},
   "source": [
    "## Function Returning a Value - Part 2"
   ]
  },
  {
   "cell_type": "markdown",
   "id": "917dee30-0750-4f67-8272-3fbd57338b9b",
   "metadata": {},
   "source": [
    "We can return this data types:\n",
    "* string\n",
    "* number\n",
    "* boolean\n",
    "* list\n",
    "\n",
    "In function, we can return any type of data types from the function."
   ]
  },
  {
   "cell_type": "code",
   "execution_count": 11,
   "id": "6155c4db-8d50-4f8f-868c-5e1396b87d9b",
   "metadata": {},
   "outputs": [
    {
     "name": "stdout",
     "output_type": "stream",
     "text": [
      "Tony Maiyo\n"
     ]
    }
   ],
   "source": [
    "#str\n",
    "def print_name(fname, lname):\n",
    "    return fname + ' ' + lname\n",
    "\n",
    "fullname=print_name('Tony', 'Maiyo')\n",
    "print(fullname)"
   ]
  },
  {
   "cell_type": "code",
   "execution_count": 12,
   "id": "9cd987f3-e101-4b59-bdd8-6690e5330426",
   "metadata": {},
   "outputs": [
    {
     "name": "stdout",
     "output_type": "stream",
     "text": [
      "Total =  14\n"
     ]
    }
   ],
   "source": [
    "#number\n",
    "def add_num(num1, num2):\n",
    "    return num1 + num2\n",
    "\n",
    "print('Total = ', add_num(10, 4))"
   ]
  },
  {
   "cell_type": "code",
   "execution_count": 19,
   "id": "00424d1e-62bf-4a3b-9780-e9b99b2f5ac1",
   "metadata": {},
   "outputs": [
    {
     "name": "stdout",
     "output_type": "stream",
     "text": [
      "Is 9 even? False\n"
     ]
    }
   ],
   "source": [
    "#boolean\n",
    "def is_even(num):\n",
    "    if(num % 2 == 0):\n",
    "        return True\n",
    "    else:\n",
    "        return False\n",
    "\n",
    "num = 9\n",
    "print(f\"Is {num} even? {is_even(num)}\")"
   ]
  },
  {
   "cell_type": "code",
   "execution_count": 25,
   "id": "82da5157-f875-47a4-9f17-de67ea771fd0",
   "metadata": {},
   "outputs": [
    {
     "name": "stdout",
     "output_type": "stream",
     "text": [
      "[2, 4, 6, 8, 10]\n"
     ]
    }
   ],
   "source": [
    "#List for even numbers\n",
    "def list_is_even(num_list):\n",
    "    even_list = []\n",
    "    for num in num_list:\n",
    "        if(num % 2 == 0):\n",
    "            even_list.append(num)\n",
    "    return even_list\n",
    "\n",
    "print(list_is_even([1,2,3,4,5,6,7,8,9,10]))"
   ]
  },
  {
   "cell_type": "markdown",
   "id": "ebb9486e-7ba2-41f6-93a0-74a0345a0289",
   "metadata": {},
   "source": [
    "## Functions with default Params"
   ]
  },
  {
   "cell_type": "markdown",
   "id": "e90334d9-a6af-46a5-b650-658dc1adde73",
   "metadata": {},
   "source": [
    "- Sometimes we pass default values to parameters, when we invoke the function. If we do not pass args when calling the function, their default values will be used"
   ]
  },
  {
   "cell_type": "code",
   "execution_count": 29,
   "id": "8e7e261c-7c9b-485e-a444-93848ab3e052",
   "metadata": {},
   "outputs": [
    {
     "data": {
      "text/plain": [
       "30"
      ]
     },
     "execution_count": 29,
     "metadata": {},
     "output_type": "execute_result"
    }
   ],
   "source": [
    "#Calculate age\n",
    "def age_calc(birth_year, current_year=2025):\n",
    "    \"\"\"\n",
    "    Calculate the age\n",
    "\n",
    "    Args:\n",
    "        birth_year: Year of birth\n",
    "        current_year: Year you want to calculate age from (default is 2025)\n",
    "    Return: Age\n",
    "    \"\"\"\n",
    "    age = current_year - birth_year\n",
    "    return age\n",
    "\n",
    "age_calc(2000, 2030)"
   ]
  },
  {
   "cell_type": "markdown",
   "id": "eb508a97-a2d7-4c8f-a467-1eba50620cb6",
   "metadata": {},
   "source": [
    "## Arbitrary Number of Args"
   ]
  },
  {
   "cell_type": "markdown",
   "id": "b47452b0-8a8a-49e9-acfe-0fccb72a70cb",
   "metadata": {},
   "source": [
    "- If we do not know the number of args we pass to our functions, we can create a function which can take arbitrary number of arguments by adding  * before the args"
   ]
  },
  {
   "cell_type": "code",
   "execution_count": 31,
   "id": "c6e1ea00-1a28-49a0-80e9-801ef5206e4f",
   "metadata": {},
   "outputs": [
    {
     "data": {
      "text/plain": [
       "21"
      ]
     },
     "execution_count": 31,
     "metadata": {},
     "output_type": "execute_result"
    }
   ],
   "source": [
    "def sum_all(*nums):\n",
    "    total = 0\n",
    "    for num in nums:\n",
    "        total = total + num\n",
    "    return total\n",
    "\n",
    "sum_all(1,2,3,4,5,6)"
   ]
  },
  {
   "cell_type": "markdown",
   "id": "a4df98f0-dbbb-4073-b42b-db46c2bf30a3",
   "metadata": {},
   "source": [
    "# Conditionals"
   ]
  },
  {
   "cell_type": "markdown",
   "id": "305d9077-b580-400a-9440-379be8282dad",
   "metadata": {},
   "source": [
    "- Normally flow of code execution is top to bottom\n",
    "- Code execution can be altered in two ways\n",
    "      * Conditional execution : A block of one or more statements will be executed if a certain expression is true.\n",
    "      * Repetitive execution : A block of one or more statements will be repeatedly executed as long as a certain expression is true\n",
    "\n",
    "## Conditional Execution\n",
    "- if statement - used to check if a condition is true and execute the block code.\n",
    "- else statement  - if condition condition is true the first block is executed, if not the else condition will run\n",
    "- elif statement - if the previous conditions were not true, then try this conditions\n",
    "\n"
   ]
  },
  {
   "cell_type": "code",
   "execution_count": 2,
   "id": "c1c2d999-bcee-4544-889e-f0c6d3d162c5",
   "metadata": {},
   "outputs": [
    {
     "name": "stdout",
     "output_type": "stream",
     "text": [
      "ID is positive\n"
     ]
    }
   ],
   "source": [
    "id_no = 123\n",
    "if id_no > 0:\n",
    "    print('ID is positive')\n",
    "          "
   ]
  },
  {
   "cell_type": "markdown",
   "id": "f41911a3-cfea-449b-bd32-ce112c99ef9f",
   "metadata": {},
   "source": [
    "## Nested conditions\n",
    "- One condition is placed within another condition\n",
    "- \n"
   ]
  },
  {
   "cell_type": "markdown",
   "id": "bd387431-a9fe-40c3-8fa4-a03c9b95d536",
   "metadata": {},
   "source": [
    "# Day 4: List Comprehension & Lambda functions"
   ]
  },
  {
   "cell_type": "markdown",
   "id": "707be13c-cb8b-4a1d-9e32-9b987718771d",
   "metadata": {},
   "source": [
    "- List comprehension is a compact way of creating a list from a sequence\n",
    "- It is a short way to create a new list\n",
    "- It is considerably faster than processing a list using the for loop"
   ]
  },
  {
   "cell_type": "markdown",
   "id": "c6fceed1-a63d-4918-8f5a-ccd60abd424b",
   "metadata": {},
   "source": [
    "# syntax\n",
    "`[i for i in iterable if expression]`"
   ]
  },
  {
   "cell_type": "code",
   "execution_count": 7,
   "id": "44e4b020-5bd1-4001-8f10-32644866c7a0",
   "metadata": {},
   "outputs": [
    {
     "name": "stdout",
     "output_type": "stream",
     "text": [
      "['a', 's', 's', 'e', 'm', 'b', 'l', 'y']\n",
      "['a', 's', 's', 'e', 'm', 'b', 'l', 'y']\n"
     ]
    }
   ],
   "source": [
    "course = 'assembly'\n",
    "\n",
    "#option one to add letters to a list\n",
    "lsts = list(course)\n",
    "print(lsts)\n",
    "\n",
    "#option 2 - using list comprehension\n",
    "list_comprehension = [c for c in course]\n",
    "print(list_comprehension)"
   ]
  },
  {
   "cell_type": "code",
   "execution_count": 9,
   "id": "d5f11d64-8ab0-4d6a-b68e-8ac169b24495",
   "metadata": {},
   "outputs": [
    {
     "name": "stdout",
     "output_type": "stream",
     "text": [
      "[(1, 1), (2, 4), (3, 9), (4, 16), (5, 25), (6, 36), (7, 49), (8, 64), (9, 81), (10, 100)]\n"
     ]
    }
   ],
   "source": [
    "sqrs = [(n,n**2) for n in range(1,11)]\n",
    "print(sqrs)\n"
   ]
  },
  {
   "cell_type": "code",
   "execution_count": 10,
   "id": "27e04877-ef7c-4a53-8be7-92dafd757033",
   "metadata": {},
   "outputs": [
    {
     "name": "stdout",
     "output_type": "stream",
     "text": [
      "['sara', 'kamau', 'jere']\n"
     ]
    }
   ],
   "source": [
    "students = ['sARA','KAMAU','Jere']\n",
    "format_lower = [w.lower() for w in students]\n",
    "print(format_lower)"
   ]
  },
  {
   "cell_type": "markdown",
   "id": "e4dee75a-af6f-46f8-98e6-a7fb77d141f7",
   "metadata": {},
   "source": [
    "### Lamba functions"
   ]
  },
  {
   "cell_type": "code",
   "execution_count": null,
   "id": "0cd39536-2330-425b-9d5c-e679c362c028",
   "metadata": {},
   "outputs": [],
   "source": []
  }
 ],
 "metadata": {
  "kernelspec": {
   "display_name": "Python 3 (ipykernel)",
   "language": "python",
   "name": "python3"
  },
  "language_info": {
   "codemirror_mode": {
    "name": "ipython",
    "version": 3
   },
   "file_extension": ".py",
   "mimetype": "text/x-python",
   "name": "python",
   "nbconvert_exporter": "python",
   "pygments_lexer": "ipython3",
   "version": "3.12.7"
  }
 },
 "nbformat": 4,
 "nbformat_minor": 5
}
