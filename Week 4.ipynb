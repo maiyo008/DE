{
 "cells": [
  {
   "cell_type": "markdown",
   "id": "c3c17105-c1a0-4ba3-838d-50d770435e6e",
   "metadata": {},
   "source": [
    "# Python Object Oriented Programming\n",
    "## Classes\n",
    "- Classes are blueprints for creating objects.\n",
    "- They define set of attributes (data) and methods(functions) that create objects(instances) will have\n",
    "\n",
    "#### Why use classes?\n",
    "- Organize code better\n",
    "- Reuse code easily\n",
    "- Represent real-world entities"
   ]
  },
  {
   "cell_type": "code",
   "execution_count": 2,
   "id": "6bfaa4fc-b695-4bcd-bcc4-1670f439b3d3",
   "metadata": {},
   "outputs": [
    {
     "name": "stdout",
     "output_type": "stream",
     "text": [
      "<__main__.employee object at 0x79278e694410>\n",
      "<__main__.employee object at 0x79278e675d90>\n",
      "Harry\n"
     ]
    }
   ],
   "source": [
    "class employee:\n",
    "    pass\n",
    "\n",
    "#Objects (Instances)\n",
    "emp_1 = employee()\n",
    "emp_2 = employee()\n",
    "\n",
    "print(emp_1)\n",
    "print(emp_2)\n",
    "\n",
    "#Creating object attributes using dot notation\n",
    "emp_1.first='Harry'\n",
    "emp_1.last='KitemA'\n",
    "emp_1.email='harrykitema@gmail'\n",
    "\n",
    "print(emp_1.first)"
   ]
  },
  {
   "cell_type": "markdown",
   "id": "1e9ffab9-8fd8-44f7-af46-9d6568411d70",
   "metadata": {},
   "source": [
    "##### Creating attributes outside of the class using dot notation after the object instantion has some disadvantages:\n",
    "- Lack of consistency - Every object might end up with a different set of attributes, which makes code unpredictable and hard to mantain.\n",
    "- No default initialization - If you forget to add an attribute mannually, it simply won't exist.\n",
    "- Poor readability and Scalability - Attributes become scattered, with different identifiers making the code hard to understand and mantain.\n",
    "- Violation of DRY principle - DRY principle is all about writing code and reusing it in order to make your program easier to update and debug, and scale. Manual creation of attributes is repititive in code.\n",
    "\n",
    "To overcome this challange, we introduce **Constructors**\n",
    "\n",
    "## Constructors\n",
    "- Constructors are special methods that are automatically called/invoked when you create your object from a class.\n",
    "- They enable you to create attributes by default when creating objects. This is achieved by passing the attributes as arguments to the object defination, just like in functions.\n",
    "\n",
    "#### Why constructors\n",
    "- Initializes attributes by default at the creation of an object\n",
    "- Keeps the code clean and DRY\n",
    "\n",
    "**Note**: When a constructor is not defined, python gives a default constructor that does not define any attribute, but just creates an object. That is what was happenning with this snippet on the cell above.\n",
    "```\n",
    "#Objects (Instances)\n",
    "emp_1 = employee()\n",
    "emp_2 = employee()\n",
    "```"
   ]
  },
  {
   "cell_type": "code",
   "execution_count": 6,
   "id": "0da26aa8-df0d-47ce-83bd-927b6a0dafde",
   "metadata": {},
   "outputs": [
    {
     "name": "stdout",
     "output_type": "stream",
     "text": [
      "<__main__.employee_smp2 object at 0x79278e6948f0>\n",
      "2000000\n",
      "Tony Maiyo earns 2000000\n"
     ]
    }
   ],
   "source": [
    "class employee_smp2():\n",
    "    #Constructor to initialize attributes\n",
    "    def __init__(self, first, last, pay, email):\n",
    "        self.first = first\n",
    "        self.last = last\n",
    "        self.pay = pay\n",
    "        self.email = email\n",
    "\n",
    "    #Method\n",
    "    def salary(self):\n",
    "        print(f'{self.first} {self.last} earns {self.pay}')\n",
    "\n",
    "emp_1 = employee_smp2('Tony', 'Maiyo', 2000000, 'tonymaiyo008@gmail.com')\n",
    "print(emp_1)\n",
    "print(emp_1.pay) #Print pay attribute\n",
    "emp_1.salary() #Invoke class method"
   ]
  },
  {
   "cell_type": "markdown",
   "id": "cc35418f-1ccf-4a18-b414-fe924f72f088",
   "metadata": {},
   "source": [
    "# Pillars of OOP in Python\n",
    "- Encapsulation - Hiding the Internal attributes\n",
    "- Abstraction - Show only essential attributes while hiding background details\n",
    "- Inheritancen - Reusing code\n",
    "- Polymorphism - Same method, different behaviours\n",
    "\n",
    "## Encapsulation\n",
    "- It is about bundling attributes and methods that operates on that data into one unit which is a class.\n",
    "- It restricts access to some attributes using modifiers like `_protected` or `__private`\n",
    "      - `_protected`: conventionally means attributes are intended for internal use or by subclasses. It is not enforced by Python\n",
    "      - `__private`: Cannot be accessed from outside the class. Python changes its identifier internally to protect it. If you know the mangled identifier you can access it from outside the class.\n",
    "\n",
    "## Abstraction \n",
    "- It means showing only essential attributes while hiding other essentials in the background\n",
    "- Achieved using methods, mostly getters & setters"
   ]
  },
  {
   "cell_type": "code",
   "execution_count": 17,
   "id": "0657d1a5-41ee-458a-851d-0b078714c982",
   "metadata": {},
   "outputs": [
    {
     "name": "stdout",
     "output_type": "stream",
     "text": [
      "Tony Maiyo your account balance is 1000000\n"
     ]
    }
   ],
   "source": [
    "class BankAccount:\n",
    "    def __init__(self, name, balance=0):\n",
    "        self.__balance = balance\n",
    "        self.name = name\n",
    "\n",
    "    def deposit(self, amount):\n",
    "        self.__balance += amount\n",
    "\n",
    "    def get_balance(self):\n",
    "        return self.__balance\n",
    "\n",
    "    def get_name(self):\n",
    "        return self.name\n",
    "\n",
    "acc = BankAccount('Tony Maiyo')\n",
    "acc.deposit(1000000)\n",
    "acc.get_balance()\n",
    "#acc.__balance # Trying to access private attribute raises AttributeError\n",
    "\n",
    "#Abstraction example\n",
    "acc.get_name()\n",
    "\n",
    "\n",
    "#Abstraction + encapsulation\n",
    "print(f'{acc.get_name()} your account balance is {acc.get_balance()}')\n"
   ]
  },
  {
   "cell_type": "markdown",
   "id": "03e466c1-d55f-4823-b077-e51aacba0c38",
   "metadata": {},
   "source": [
    "## Inheritance\n",
    "- It allows a class(Child/Subclass) to inherit all attributes and methods from another class(Parent/Superclass)"
   ]
  },
  {
   "cell_type": "code",
   "execution_count": 18,
   "id": "c6dc0f93-c8ec-4293-a5aa-8cc921889125",
   "metadata": {},
   "outputs": [
    {
     "name": "stdout",
     "output_type": "stream",
     "text": [
      "Animal sound\n",
      "Woof!\n"
     ]
    }
   ],
   "source": [
    "class Animal:\n",
    "    def speak(self):\n",
    "        print(\"Animal sound\")\n",
    "\n",
    "class Dog(Animal):  #Dog inherits from Animal\n",
    "    def bark(self):\n",
    "        print(\"Woof!\")\n",
    "\n",
    "d = Dog()\n",
    "d.speak()  #Inherited\n",
    "d.bark()   #Specific to Dog\n"
   ]
  },
  {
   "cell_type": "markdown",
   "id": "f7c72f1a-4a2d-4e58-ac86-2c420355f0b8",
   "metadata": {},
   "source": [
    "## Polymorphism\n",
    "- It allows you to use the same method in different classes with different implementations"
   ]
  },
  {
   "cell_type": "code",
   "execution_count": 20,
   "id": "b0c83ce0-1c8c-4c95-a032-2f8857371c88",
   "metadata": {},
   "outputs": [
    {
     "name": "stdout",
     "output_type": "stream",
     "text": [
      "Meow\n",
      "Woof\n"
     ]
    }
   ],
   "source": [
    "class Cat:\n",
    "    def sound(self):\n",
    "        print(\"Meow\")\n",
    "\n",
    "class Dog:\n",
    "    def sound(self):\n",
    "        print(\"Woof\")\n",
    "\n",
    "cat = Cat()\n",
    "dog = Dog()\n",
    "\n",
    "cat.sound() #Uses sound method under Cat class\n",
    "dog.sound() #Uses sound method under Dog class"
   ]
  },
  {
   "cell_type": "code",
   "execution_count": null,
   "id": "7e841a4e-09fc-4446-8db8-af8c49947c00",
   "metadata": {},
   "outputs": [],
   "source": []
  }
 ],
 "metadata": {
  "kernelspec": {
   "display_name": "Python 3 (ipykernel)",
   "language": "python",
   "name": "python3"
  },
  "language_info": {
   "codemirror_mode": {
    "name": "ipython",
    "version": 3
   },
   "file_extension": ".py",
   "mimetype": "text/x-python",
   "name": "python",
   "nbconvert_exporter": "python",
   "pygments_lexer": "ipython3",
   "version": "3.12.7"
  }
 },
 "nbformat": 4,
 "nbformat_minor": 5
}
