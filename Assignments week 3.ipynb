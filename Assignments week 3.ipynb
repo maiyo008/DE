{
 "cells": [
  {
   "cell_type": "markdown",
   "id": "33753eb8-eeb5-4e79-93da-2a58bb45111d",
   "metadata": {},
   "source": [
    "# Exercises: Level 1"
   ]
  },
  {
   "cell_type": "markdown",
   "id": "dd0432de-38f4-4d54-a8fd-ed89a4e6351b",
   "metadata": {},
   "source": [
    "Get user input using input(“Enter your age: ”). If user is 18 or older, give feedback: You are old enough to drive. If below 18 give feedback to wait for the missing amount of years. Output:"
   ]
  },
  {
   "cell_type": "code",
   "execution_count": 11,
   "id": "311fc6ac-f7ad-4202-97c1-6e0566d1dd7c",
   "metadata": {},
   "outputs": [
    {
     "name": "stdin",
     "output_type": "stream",
     "text": [
      "Enter your age:  10\n"
     ]
    },
    {
     "name": "stdout",
     "output_type": "stream",
     "text": [
      "You need 8 more years to learn to drive.\n"
     ]
    }
   ],
   "source": [
    "age = input('Enter your age: ')\n",
    "age = int(age)\n",
    "adult_age = 18\n",
    "if(age >= adult_age):\n",
    "    print('You are old enough to learn to drive.')\n",
    "else:\n",
    "    \n",
    "    print(f\"You need {adult_age-age} more years to learn to drive.\") "
   ]
  },
  {
   "cell_type": "markdown",
   "id": "4e2bf730-776c-4435-a88e-7fef87897644",
   "metadata": {},
   "source": [
    "- Compare the values of my_age and your_age using if … else. Who is older (me or you)? Use input(“Enter your age: ”) to get the age as input. You can use a nested condition to print 'year' for 1 year difference in age, 'years' for bigger differences, and a custom text if my_age = your_age. "
   ]
  },
  {
   "cell_type": "code",
   "execution_count": 24,
   "id": "ea9069fe-6388-4a27-b9de-9afc3b82afb7",
   "metadata": {},
   "outputs": [
    {
     "name": "stdin",
     "output_type": "stream",
     "text": [
      "Enter your age:  24\n"
     ]
    },
    {
     "name": "stdout",
     "output_type": "stream",
     "text": [
      "I am 1 year older than you\n"
     ]
    }
   ],
   "source": [
    "your_age = input('Enter your age: ')\n",
    "your_age = int(your_age)\n",
    "my_age = 25\n",
    "if(your_age > my_age):\n",
    "    if(your_age - my_age == 1):\n",
    "        print('You are 1 year older than me')\n",
    "    else:\n",
    "        print(f'You are {your_age - my_age} years older than me')\n",
    "elif (your_age == my_age):\n",
    "    print('We are of the same age')\n",
    "else:\n",
    "    if(my_age - your_age == 1):\n",
    "        print('I am 1 year older than you')\n",
    "    else:\n",
    "        print(f'I am {my_age - your_age} years older than you')\n"
   ]
  },
  {
   "cell_type": "markdown",
   "id": "6a0beb1c-a5d6-4aa3-a2d0-4554f9dfb47c",
   "metadata": {},
   "source": [
    "- Get two numbers from the user using input prompt. If a is greater than b return a is greater than b, if a is less b return a is smaller than b, else a is equal to b."
   ]
  },
  {
   "cell_type": "code",
   "execution_count": 31,
   "id": "d25bd078-8bb0-4da8-a0bd-d519cee8e3b7",
   "metadata": {},
   "outputs": [
    {
     "name": "stdin",
     "output_type": "stream",
     "text": [
      "Enter a:  20\n",
      "Enter b:  30\n"
     ]
    },
    {
     "name": "stdout",
     "output_type": "stream",
     "text": [
      "b is greater than a\n"
     ]
    }
   ],
   "source": [
    "num_a = int(input('Enter a: '))\n",
    "num_b = int(input('Enter b: '))\n",
    "if(num_a > num_b):\n",
    "    print('a is greater than b')\n",
    "elif (num_a == num_b):\n",
    "    print('a is equal to b')\n",
    "else:\n",
    "    print('b is greater than a')\n"
   ]
  },
  {
   "cell_type": "markdown",
   "id": "5acc28e2-e094-4df5-b0c9-282ee8a64f7d",
   "metadata": {},
   "source": [
    "# Exercises: Level 2"
   ]
  },
  {
   "cell_type": "markdown",
   "id": "979c814b-1874-4030-ada1-5ff3fea4d3c8",
   "metadata": {},
   "source": [
    "- The following list contains some fruits:\n",
    "```sh\n",
    "fruits = ['banana', 'orange', 'mango', 'lemon']\n",
    "```\n",
    "If a fruit doesn't exist in the list add the fruit to the list and print the modified list. If the fruit exists print('That fruit already exist in the list')\n"
   ]
  },
  {
   "cell_type": "code",
   "execution_count": 16,
   "id": "148e6b42-cb11-4f55-9037-1f7b4a4900ec",
   "metadata": {},
   "outputs": [
    {
     "name": "stdin",
     "output_type": "stream",
     "text": [
      "Enter a fruit:  banana\n"
     ]
    },
    {
     "name": "stdout",
     "output_type": "stream",
     "text": [
      "banana already exist in the list\n"
     ]
    }
   ],
   "source": [
    "fruits = ['banana', 'orange', 'mango', 'lemon']\n",
    "fruit = input('Enter a fruit: ')\n",
    "\n",
    "if fruit in fruits:\n",
    "    print(f'{fruit} already exist in the list')\n",
    "else:\n",
    "    fruits.append(fruit)\n",
    "    print(f'Modified list: {fruits}')\n",
    " \n"
   ]
  },
  {
   "cell_type": "markdown",
   "id": "b4791d16-f673-441f-a702-505c558862bf",
   "metadata": {},
   "source": [
    "- Write a code which gives grade to students according to theirs scores:\n",
    "```\n",
    "80-100, A\n",
    "70-89, B\n",
    "60-69, C\n",
    "50-59, D\n",
    "0-49, F\n",
    "```\n"
   ]
  },
  {
   "cell_type": "code",
   "execution_count": 8,
   "id": "93e9513b-7b40-4aac-8e7f-efdcc9debe50",
   "metadata": {},
   "outputs": [
    {
     "name": "stdin",
     "output_type": "stream",
     "text": [
      "Enter student score to grade:  59\n"
     ]
    },
    {
     "name": "stdout",
     "output_type": "stream",
     "text": [
      "D\n"
     ]
    }
   ],
   "source": [
    "score = int(input('Enter student score to grade: '))\n",
    "if 80 <= score <=100:\n",
    "    print('A')\n",
    "elif 70 <= score < 80:\n",
    "    print('B')\n",
    "elif 60 <= score < 70:\n",
    "    print('C')\n",
    "elif 50 <= score < 60:\n",
    "    print('D')\n",
    "elif 0 <= score < 50:\n",
    "    print('E')\n",
    "\n",
    "    "
   ]
  },
  {
   "cell_type": "markdown",
   "id": "48484534-997b-41ce-ab14-30be214ec849",
   "metadata": {},
   "source": [
    "- Check if the season is Autumn, Winter, Spring or Summer.If the user input is: \n",
    "    September, October or November, the season is Autumn. \n",
    "    December, January or February, the season is Winter.\n",
    "    March, April or May, the season is Spring\n",
    "    June, July or August, the season is Summer"
   ]
  },
  {
   "cell_type": "code",
   "execution_count": 13,
   "id": "9a92dd66-6ef5-4f00-8fed-db09b656e597",
   "metadata": {},
   "outputs": [
    {
     "name": "stdin",
     "output_type": "stream",
     "text": [
      "Enter month to check the season:  September\n"
     ]
    }
   ],
   "source": [
    "autumn = ['September','October','November']\n",
    "winter = ['December,January,February']\n",
    "spring = ['March,April,May']\n",
    "summer = ['June,July,August']\n",
    "\n",
    "month = input('Enter month to check the season: ')\n",
    "if month in autumn:\n",
    "    print(2)\n",
    "    print('Season: Autumn')\n",
    "elif month in winter:\n",
    "    print('Season: Winter')\n",
    "elif month in spring:\n",
    "    print('Season: Spring')\n",
    "elif month in summer:\n",
    "    print('Season: Summer')\n"
   ]
  },
  {
   "cell_type": "markdown",
   "id": "c51b700a-7e9d-4fb1-b1e5-52b2ef05fdc2",
   "metadata": {},
   "source": [
    "# List Comprehension Exercise"
   ]
  },
  {
   "cell_type": "markdown",
   "id": "9bf289d7-bbe7-47f1-a53a-dd194f3cc5ce",
   "metadata": {},
   "source": [
    "Filter only negative and zero in the list using list comprehension\n",
    "\n",
    "`numbers = [-4, -3, -2, -1, 0, 2, 4, 6]`"
   ]
  },
  {
   "cell_type": "code",
   "execution_count": 27,
   "id": "196f878b-46b8-4a9d-a61d-261417a28dee",
   "metadata": {},
   "outputs": [
    {
     "name": "stdout",
     "output_type": "stream",
     "text": [
      "[-4, -3, -2, -1, 0]\n"
     ]
    }
   ],
   "source": [
    "numbers = [-4, -3, -2, -1, 0, 2, 4, 6]\n",
    "filtered_numbers = [num for num in numbers if num <= 0]\n",
    "print(filtered_numbers)"
   ]
  },
  {
   "cell_type": "markdown",
   "id": "8fde7fdb-58cd-4e6f-bf47-8f6b3e6f207d",
   "metadata": {},
   "source": [
    "- Flatten the following list of lists of lists to a one dimensional list :\n",
    "```\n",
    "list_of_lists =[[[1, 2, 3]], [[4, 5, 6]], [[7, 8, 9]]]\n",
    "\n",
    "output\n",
    "[1, 2, 3, 4, 5, 6, 7, 8, 9]\n",
    "```"
   ]
  },
  {
   "cell_type": "code",
   "execution_count": 33,
   "id": "cea344f5-a679-46ac-942d-a0edca45a5d2",
   "metadata": {},
   "outputs": [
    {
     "name": "stdout",
     "output_type": "stream",
     "text": [
      "[1, 2, 3, 4, 5, 6, 7, 8, 9]\n"
     ]
    }
   ],
   "source": [
    "list_of_lists =[[[1, 2, 3]], [[4, 5, 6]], [[7, 8, 9]]]\n",
    "flattened_list = [final for row in list_of_lists for l in row for final in l]\n",
    "print(flattened_list)"
   ]
  },
  {
   "cell_type": "markdown",
   "id": "d6c42f05-5aca-4e2c-83aa-52dbd4c01a6d",
   "metadata": {},
   "source": [
    "- Using list comprehension create the following list of tuples:\n",
    "```\n",
    "[(0, 0, 0, 0, 0, 0, 0),\n",
    "(1, 1, 1, 1, 1, 1, 1),\n",
    "(2, 1, 2, 4, 8, 16, 32),\n",
    "(3, 1, 3, 9, 27, 81, 243),\n",
    "(4, 1, 4, 16, 64, 256, 1024),\n",
    "(5, 1, 5, 25, 125, 625, 3125),\n",
    "(6, 1, 6, 36, 216, 1296, 7776),\n",
    "(7, 1, 7, 49, 343, 2401, 16807),\n",
    "(8, 1, 8, 64, 512, 4096, 32768),\n",
    "(9, 1, 9, 81, 729, 6561, 59049),\n",
    "(10, 1, 10, 100, 1000, 10000, 100000)]\n",
    "```"
   ]
  },
  {
   "cell_type": "code",
   "execution_count": null,
   "id": "f639e6c3-3650-4d45-b0fb-a97e137076f3",
   "metadata": {},
   "outputs": [],
   "source": [
    "tpl = []"
   ]
  }
 ],
 "metadata": {
  "kernelspec": {
   "display_name": "Python 3 (ipykernel)",
   "language": "python",
   "name": "python3"
  },
  "language_info": {
   "codemirror_mode": {
    "name": "ipython",
    "version": 3
   },
   "file_extension": ".py",
   "mimetype": "text/x-python",
   "name": "python",
   "nbconvert_exporter": "python",
   "pygments_lexer": "ipython3",
   "version": "3.12.7"
  }
 },
 "nbformat": 4,
 "nbformat_minor": 5
}
